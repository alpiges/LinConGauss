{
 "cells": [
  {
   "cell_type": "markdown",
   "metadata": {},
   "source": [
    "# Sampling from a linearly constrained domain with Elliptical Slice Sampling"
   ]
  },
  {
   "cell_type": "code",
   "execution_count": 1,
   "metadata": {},
   "outputs": [],
   "source": [
    "import numpy as np\n",
    "import gilc"
   ]
  },
  {
   "cell_type": "markdown",
   "metadata": {},
   "source": [
    "### Set up the linear constraints\n",
    "The domain we wish to sample from and compute the mass of is defined as $\\{x: a_m^\\intercal x + b_m \\geq 0\\}_{m=1}^M$, i.e. where each of $M$ linear functions defined as  $A x + b$ exceed zero, for $A \\in \\mathbb{R}^{M\\times D}$, $x\\in \\mathbb{R}^D$ and $b\\in\\mathbb{R}^M$."
   ]
  },
  {
   "cell_type": "code",
   "execution_count": 12,
   "metadata": {},
   "outputs": [],
   "source": [
    "dim = 100 # dimensions\n",
    "n_lc=dim  # number of linear constraints\n",
    "\n",
    "A = np.eye(dim)\n",
    "b = -np.ones((dim, 1))\n",
    "\n",
    "np.random.seed(0)\n",
    "\n",
    "# set up the linear contraints\n",
    "lincon = gilc.LinearConstraints(A, b)"
   ]
  },
  {
   "cell_type": "markdown",
   "metadata": {},
   "source": [
    "The algorithm assumes an underlying **isotropic Gaussian density**. If yours is not so, you need to transform your linear constraints accordingly.\n",
    "\n",
    "Given an initial sample from the domain (which we will now guess, although there are more principled ways to get those), we can run our sampler."
   ]
  },
  {
   "cell_type": "code",
   "execution_count": 17,
   "metadata": {},
   "outputs": [
    {
     "data": {
      "text/plain": [
       "array([ True])"
      ]
     },
     "execution_count": 17,
     "metadata": {},
     "output_type": "execute_result"
    }
   ],
   "source": [
    "x0 = 1.5*np.ones((dim,1))\n",
    "\n",
    "# is the proposed vector in the domain?\n",
    "lincon.integration_domain(x0) == 1"
   ]
  },
  {
   "cell_type": "markdown",
   "metadata": {},
   "source": [
    "### Setting up the sampler\n",
    "\n",
    "Now let us initialize the elliptical slice sampler:"
   ]
  },
  {
   "cell_type": "code",
   "execution_count": 19,
   "metadata": {},
   "outputs": [],
   "source": [
    "n_iter = 1000 # number of samples we wish to draw\n",
    "n_skip = 3    # number of samples ignored in the Markov chain for every new accepted sample\n",
    "\n",
    "liness = gilc.loop.EllipticalSliceOuterLoop(n_iterations=n_iter, linear_constraints=lincon, n_skip=n_skip, x_init=x0)"
   ]
  },
  {
   "cell_type": "markdown",
   "metadata": {},
   "source": [
    "### Running the sampler"
   ]
  },
  {
   "cell_type": "code",
   "execution_count": 20,
   "metadata": {},
   "outputs": [],
   "source": [
    "liness.run_loop()"
   ]
  },
  {
   "cell_type": "markdown",
   "metadata": {},
   "source": [
    "### Diagnostics"
   ]
  },
  {
   "cell_type": "code",
   "execution_count": 23,
   "metadata": {},
   "outputs": [
    {
     "data": {
      "text/plain": [
       "array([[1.5       , 1.43182383, 1.33234139, ..., 1.22046939, 1.22032473,\n",
       "        1.19705282],\n",
       "       [1.5       , 1.52692436, 1.56720058, ..., 2.36515689, 2.38980519,\n",
       "        2.40679092],\n",
       "       [1.5       , 1.31227108, 1.28962332, ..., 1.07764344, 1.07285883,\n",
       "        1.05563631],\n",
       "       ...,\n",
       "       [1.5       , 1.51468202, 1.55784285, ..., 1.92461301, 1.90565526,\n",
       "        1.92239694],\n",
       "       [1.5       , 1.40219085, 1.42165022, ..., 1.26686104, 1.31726724,\n",
       "        1.32982526],\n",
       "       [1.5       , 1.35990157, 1.41219733, ..., 1.04915848, 1.04654079,\n",
       "        1.04622866]])"
      ]
     },
     "execution_count": 23,
     "metadata": {},
     "output_type": "execute_result"
    }
   ],
   "source": [
    "liness.loop_state.X"
   ]
  },
  {
   "cell_type": "code",
   "execution_count": null,
   "metadata": {},
   "outputs": [],
   "source": []
  }
 ],
 "metadata": {
  "kernelspec": {
   "display_name": "Python 3",
   "language": "python",
   "name": "python3"
  },
  "language_info": {
   "codemirror_mode": {
    "name": "ipython",
    "version": 3
   },
   "file_extension": ".py",
   "mimetype": "text/x-python",
   "name": "python",
   "nbconvert_exporter": "python",
   "pygments_lexer": "ipython3",
   "version": "3.7.4"
  }
 },
 "nbformat": 4,
 "nbformat_minor": 2
}
