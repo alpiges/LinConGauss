{
 "cells": [
  {
   "cell_type": "markdown",
   "metadata": {},
   "source": [
    "# Sampling from a linearly constrained Gaussian with `LinConGauss`\n",
    "\n",
    "### Outline\n",
    "This notebook shows how to use the `LinConGauss` package to sample from a linearly constrained Gaussian.\n",
    "The example is done in 2D for visualization purposes.\n",
    "\n",
    "_tutorial by Alexandra Gessner, Feb 2020_"
   ]
  },
  {
   "cell_type": "code",
   "execution_count": null,
   "metadata": {},
   "outputs": [],
   "source": []
  }
 ],
 "metadata": {
  "kernelspec": {
   "display_name": "Python 3",
   "language": "python",
   "name": "python3"
  },
  "language_info": {
   "codemirror_mode": {
    "name": "ipython",
    "version": 3
   },
   "file_extension": ".py",
   "mimetype": "text/x-python",
   "name": "python",
   "nbconvert_exporter": "python",
   "pygments_lexer": "ipython3",
   "version": "3.7.4"
  }
 },
 "nbformat": 4,
 "nbformat_minor": 2
}
