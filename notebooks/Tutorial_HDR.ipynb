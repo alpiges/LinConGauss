{
 "cells": [
  {
   "cell_type": "markdown",
   "metadata": {},
   "source": [
    "# Integration via the Holmes-Diaconis-Ross algorithm using `LinConGauss`\n",
    "\n",
    "### Outline\n",
    "This notebook shows how to use the `LinConGauss` package to estimate the integral of a linearly constrained Gaussian.\n",
    "The procedure is the following:\n",
    "- define the linear constraints\n",
    "- run subset simulation to determine the nestings\n",
    "- run Holmes-Diaconis-Ross to get an unbiased estimate of the integral\n",
    "\n",
    "Details on the method can be found in [Gessner, Kanjilal, and Hennig: Integrals over Gaussians under Linear Domain Constraints](https://arxiv.org/abs/1910.09328)\n",
    "\n",
    "__This example__  \n",
    "Consider a 100d shifted orthant in a standard normal space. The integral is available in closed form\n",
    "We compute the integral using `LinConGauss` and compare to the ground truth.\n",
    "\n",
    "_tutorial by Alexandra Gessner, Feb 2020_"
   ]
  },
  {
   "cell_type": "code",
   "execution_count": 1,
   "metadata": {},
   "outputs": [],
   "source": [
    "import numpy as np\n",
    "import LinConGauss as lcg"
   ]
  },
  {
   "cell_type": "markdown",
   "metadata": {},
   "source": [
    "### Setting up linear constraints\n",
    "The linear constraints are defined as the roots of $M$ (here `n_lc`) linear functions\n",
    "$$\\mathbf{f}(\\mathbf{x}) = A_m^\\intercal \\mathbf{x} + \\mathbf{b}. $$\n",
    "and the domain of interest is defined as the intersection of where all these functions are _positive_.\n",
    "\n",
    "In this setting we assume the linear constraints to be axis-aligned."
   ]
  },
  {
   "cell_type": "code",
   "execution_count": 2,
   "metadata": {},
   "outputs": [],
   "source": [
    "# Problem dimension\n",
    "dim = 100\n",
    "\n",
    "# seed for reproducibility\n",
    "np.random.seed(0)\n",
    "\n",
    "# number of linear constraints\n",
    "n_lc = np.copy(dim)\n",
    "\n",
    "# generate random linear constraints\n",
    "A = np.eye(n_lc)\n",
    "b = np.random.randn(n_lc, 1)\n",
    "\n",
    "# define the linear constraints with LinConGauss\n",
    "lincon = lcg.LinearConstraints(A=A, b=b)"
   ]
  },
  {
   "cell_type": "markdown",
   "metadata": {},
   "source": [
    "### Ground truth integral\n",
    "The ground truth integral is just the Gaussian CDF evaluated at $b$ since\n",
    "$$\\int_{-b}^\\infty \\mathcal{N} (x; 0,1) \\mathrm{d}x = \\int_{-\\infty}^b \\mathcal{N} (x; 0,1) \\mathrm{d}x\n",
    "= \\Phi(b)$$"
   ]
  },
  {
   "cell_type": "code",
   "execution_count": 3,
   "metadata": {},
   "outputs": [
    {
     "name": "stdout",
     "output_type": "stream",
     "text": [
      "4.4346483368318176e-42\n"
     ]
    }
   ],
   "source": [
    "from scipy.stats import norm\n",
    "\n",
    "true_integral = norm.cdf(lincon.b).prod()\n",
    "print(true_integral)"
   ]
  },
  {
   "cell_type": "markdown",
   "metadata": {},
   "source": [
    "### Integral via LinConGauss\n",
    "\n",
    "Use subset simulation (Au&Beck 2001) to determine a sequence of shifts s.t. 1/2 of the samples fall inside the next domain. Subset simulation can also help estimate the integral, but it is biased.\n",
    "\n",
    "Therefore we then hand the obtained shift sequence to the HDR method, with which we draw more samples per nesting in order to obtain unbiased estimates of the conditional probability of each nesting."
   ]
  },
  {
   "cell_type": "code",
   "execution_count": 4,
   "metadata": {},
   "outputs": [],
   "source": [
    "subsetsim = lcg.multilevel_splitting.SubsetSimulation(linear_constraints=lincon,\n",
    "                                                      n_samples=16,\n",
    "                                                      domain_fraction=0.5,\n",
    "                                                      n_skip=3)\n",
    "subsetsim.run(verbose=False)"
   ]
  },
  {
   "cell_type": "code",
   "execution_count": 5,
   "metadata": {},
   "outputs": [],
   "source": [
    "shifts = subsetsim.tracker.shift_sequence"
   ]
  },
  {
   "cell_type": "code",
   "execution_count": 6,
   "metadata": {},
   "outputs": [],
   "source": [
    "hdr = lcg.multilevel_splitting.HDR(linear_constraints=lincon,\n",
    "                                   shift_sequence=shifts,\n",
    "                                   n_samples=512,\n",
    "                                   n_skip=9,\n",
    "                                   X_init=subsetsim.tracker.x_inits())\n",
    "hdr.run(verbose=False)"
   ]
  },
  {
   "cell_type": "code",
   "execution_count": 7,
   "metadata": {},
   "outputs": [
    {
     "name": "stdout",
     "output_type": "stream",
     "text": [
      "1.1209678655929519e-42\n"
     ]
    }
   ],
   "source": [
    "hdr_integral = hdr.tracker.integral()\n",
    "print(hdr_integral)"
   ]
  },
  {
   "cell_type": "code",
   "execution_count": 8,
   "metadata": {},
   "outputs": [
    {
     "name": "stdout",
     "output_type": "stream",
     "text": [
      "0.5964559736492593\n"
     ]
    }
   ],
   "source": [
    "rel_error = np.abs(true_integral - hdr_integral)/(true_integral + hdr_integral)\n",
    "print(rel_error)"
   ]
  },
  {
   "cell_type": "markdown",
   "metadata": {},
   "source": [
    "This means that the integral estimate is about 1 order of magnitude off, which is not a lot given the small scale of the problem."
   ]
  },
  {
   "cell_type": "markdown",
   "metadata": {},
   "source": [
    "### Sampling from the domain\n",
    "We already got a few samples from the integration procedure, which we can reuuse for sampling.\n",
    "The method uses rejection-free elliptical slice sampling to sample from the domain. Given we already know samples in the domain of interest, we do not need to run subset simulation to find these, but we can directly define the sampler."
   ]
  },
  {
   "cell_type": "code",
   "execution_count": 9,
   "metadata": {},
   "outputs": [],
   "source": [
    "# samples known from integration\n",
    "X_int = hdr.tracker.X\n",
    "\n",
    "# Elliptical slice sampler\n",
    "sampler = lcg.sampling.EllipticalSliceSampler(n_iterations=1000,\n",
    "                                              linear_constraints=lincon,\n",
    "                                              n_skip=9,\n",
    "                                              x_init=X_int)\n",
    "sampler.run()"
   ]
  },
  {
   "cell_type": "code",
   "execution_count": 10,
   "metadata": {},
   "outputs": [
    {
     "data": {
      "text/plain": [
       "array([[ 0.95768   ,  1.00569932,  1.1046428 , ..., -0.2665558 ,\n",
       "        -0.23618649, -0.44097909],\n",
       "       [-0.24078086, -0.29294991, -0.26082635, ...,  0.56955891,\n",
       "         0.50018578,  0.47523858],\n",
       "       [-0.06859234,  0.03219652,  0.30989099, ..., -0.57417054,\n",
       "        -0.52996829, -0.46241832],\n",
       "       ...,\n",
       "       [ 0.81298016,  0.89595533,  0.75319723, ...,  0.07584069,\n",
       "         0.10103985, -0.00448645],\n",
       "       [ 0.85103263,  0.84523668,  0.97622414, ...,  0.44899093,\n",
       "         0.46062743,  0.29172688],\n",
       "       [ 1.24265713,  1.27339369,  1.48414384, ..., -0.37260173,\n",
       "        -0.39422942, -0.34019564]])"
      ]
     },
     "execution_count": 10,
     "metadata": {},
     "output_type": "execute_result"
    }
   ],
   "source": [
    "# here are the samples\n",
    "sampler.loop_state.X"
   ]
  },
  {
   "cell_type": "markdown",
   "metadata": {},
   "source": [
    "### Alan Genz's method (integration only)\n",
    "In this specific case, the integration method used by Alan Genz can be applied.\n",
    "This requires the linear constraints to be rewritable as (potentially open) box constraints of a general Gaussian.\n",
    "If this is the case and if furthermore samples are not required, this method is the method of choice for the given integration task.\n",
    "\n",
    "The method can be found in `scipy.stats.mvn` as `mvnun` routine. This directly calls the `FORTRAN` implementation of `MVNDST` [written by Alan Genz](http://www.math.wsu.edu/faculty/genz/homepage)"
   ]
  },
  {
   "cell_type": "code",
   "execution_count": 11,
   "metadata": {},
   "outputs": [
    {
     "data": {
      "text/plain": [
       "(4.434648336831776e-42, 0)"
      ]
     },
     "execution_count": 11,
     "metadata": {},
     "output_type": "execute_result"
    }
   ],
   "source": [
    "from scipy.stats import mvn\n",
    "\n",
    "lower = -b.squeeze()\n",
    "upper = np.inf * np.ones_like(lower)\n",
    "\n",
    "mean = np.zeros((n_lc,))\n",
    "cov = np.eye(n_lc)\n",
    "\n",
    "mvn.mvnun(lower, upper, mean, cov)"
   ]
  },
  {
   "cell_type": "code",
   "execution_count": null,
   "metadata": {},
   "outputs": [],
   "source": []
  }
 ],
 "metadata": {
  "kernelspec": {
   "display_name": "Python 3",
   "language": "python",
   "name": "python3"
  },
  "language_info": {
   "codemirror_mode": {
    "name": "ipython",
    "version": 3
   },
   "file_extension": ".py",
   "mimetype": "text/x-python",
   "name": "python",
   "nbconvert_exporter": "python",
   "pygments_lexer": "ipython3",
   "version": "3.7.4"
  }
 },
 "nbformat": 4,
 "nbformat_minor": 2
}
